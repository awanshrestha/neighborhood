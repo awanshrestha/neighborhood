{
  "nbformat": 4,
  "nbformat_minor": 5,
  "metadata": {
    "kernelspec": {
      "display_name": "Python 3",
      "language": "python",
      "name": "python3"
    },
    "language_info": {
      "codemirror_mode": {
        "name": "ipython",
        "version": 3
      },
      "file_extension": ".py",
      "mimetype": "text/x-python",
      "name": "python",
      "nbconvert_exporter": "python",
      "pygments_lexer": "ipython3",
      "version": "3.7.10"
    },
    "papermill": {
      "default_parameters": {},
      "duration": 94.000664,
      "end_time": "2021-05-04T15:55:14.074143",
      "environment_variables": {},
      "exception": null,
      "input_path": "__notebook__.ipynb",
      "output_path": "__notebook__.ipynb",
      "parameters": {},
      "start_time": "2021-05-04T15:53:40.073479",
      "version": "2.3.3"
    },
    "colab": {
      "name": "disaster-tweet-classification.ipynb",
      "provenance": [],
      "include_colab_link": true
    }
  },
  "cells": [
    {
      "cell_type": "markdown",
      "metadata": {
        "id": "view-in-github",
        "colab_type": "text"
      },
      "source": [
        "<a href=\"https://colab.research.google.com/github/awanshrestha/neighborhoodly-status/blob/main/disaster_tweet_classification.ipynb\" target=\"_parent\"><img src=\"https://colab.research.google.com/assets/colab-badge.svg\" alt=\"Open In Colab\"/></a>"
      ]
    },
    {
      "cell_type": "markdown",
      "metadata": {
        "papermill": {
          "duration": 0.038199,
          "end_time": "2021-05-04T15:53:48.751981",
          "exception": false,
          "start_time": "2021-05-04T15:53:48.713782",
          "status": "completed"
        },
        "tags": [],
        "id": "least-metallic"
      },
      "source": [
        "#### Aim of this notebook is to create model for classifying the tweets into disaster and non disaster using LSTM "
      ],
      "id": "least-metallic"
    },
    {
      "cell_type": "code",
      "metadata": {
        "_cell_guid": "b1076dfc-b9ad-4769-8c92-a6c4dae69d19",
        "_uuid": "8f2839f25d086af736a60e9eeb907d3b93b6e0e5",
        "execution": {
          "iopub.execute_input": "2021-05-04T15:53:48.884558Z",
          "iopub.status.busy": "2021-05-04T15:53:48.883350Z",
          "iopub.status.idle": "2021-05-04T15:53:50.648886Z",
          "shell.execute_reply": "2021-05-04T15:53:50.649577Z"
        },
        "papermill": {
          "duration": 1.802248,
          "end_time": "2021-05-04T15:53:50.649871",
          "exception": false,
          "start_time": "2021-05-04T15:53:48.847623",
          "status": "completed"
        },
        "tags": [],
        "id": "quick-compact"
      },
      "source": [
        "\n",
        "import os\n",
        "\n",
        "import pandas as pd\n",
        "import numpy as np\n",
        "import seaborn as sns\n",
        "sns.set_style(\"darkgrid\")\n",
        "import matplotlib.pyplot as plt\n",
        "%matplotlib inline\n",
        "import warnings\n",
        "warnings.simplefilter(action='ignore', category=Warning)\n",
        "import re\n",
        "import nltk\n",
        "from nltk.corpus import stopwords\n",
        "from tqdm import tqdm"
      ],
      "id": "quick-compact",
      "execution_count": 3,
      "outputs": []
    },
    {
      "cell_type": "markdown",
      "metadata": {
        "papermill": {
          "duration": 0.031779,
          "end_time": "2021-05-04T15:53:50.714563",
          "exception": false,
          "start_time": "2021-05-04T15:53:50.682784",
          "status": "completed"
        },
        "tags": [],
        "id": "authorized-eight"
      },
      "source": [
        "#### Let's import the Dataset"
      ],
      "id": "authorized-eight"
    },
    {
      "cell_type": "code",
      "metadata": {
        "colab": {
          "base_uri": "https://localhost:8080/"
        },
        "id": "UlwZPDBTFACa",
        "outputId": "9f8e1565-1b7f-4728-b2f4-4be0e8f77d66"
      },
      "source": [
        "from google.colab import drive\n",
        "drive.mount('/content/drive')"
      ],
      "id": "UlwZPDBTFACa",
      "execution_count": 4,
      "outputs": [
        {
          "output_type": "stream",
          "text": [
            "Mounted at /content/drive\n"
          ],
          "name": "stdout"
        }
      ]
    },
    {
      "cell_type": "code",
      "metadata": {
        "execution": {
          "iopub.execute_input": "2021-05-04T15:53:50.785178Z",
          "iopub.status.busy": "2021-05-04T15:53:50.784197Z",
          "iopub.status.idle": "2021-05-04T15:53:50.864496Z",
          "shell.execute_reply": "2021-05-04T15:53:50.864994Z"
        },
        "papermill": {
          "duration": 0.117997,
          "end_time": "2021-05-04T15:53:50.865174",
          "exception": false,
          "start_time": "2021-05-04T15:53:50.747177",
          "status": "completed"
        },
        "tags": [],
        "id": "amateur-democracy"
      },
      "source": [
        "df = pd.read_csv(\"/content/drive/MyDrive/Data/NLP/train.csv\")\n",
        "test = pd.read_csv(\"/content/drive/MyDrive/Data/NLP/test.csv\")"
      ],
      "id": "amateur-democracy",
      "execution_count": 5,
      "outputs": []
    },
    {
      "cell_type": "code",
      "metadata": {
        "execution": {
          "iopub.execute_input": "2021-05-04T15:53:50.933843Z",
          "iopub.status.busy": "2021-05-04T15:53:50.932843Z",
          "iopub.status.idle": "2021-05-04T15:53:50.960336Z",
          "shell.execute_reply": "2021-05-04T15:53:50.959820Z"
        },
        "papermill": {
          "duration": 0.062825,
          "end_time": "2021-05-04T15:53:50.960479",
          "exception": false,
          "start_time": "2021-05-04T15:53:50.897654",
          "status": "completed"
        },
        "tags": [],
        "colab": {
          "base_uri": "https://localhost:8080/",
          "height": 639
        },
        "id": "emotional-depression",
        "outputId": "979a9e2c-86e1-4f2d-8a74-c0f7fc1f4f4b"
      },
      "source": [
        "df.head(20)"
      ],
      "id": "emotional-depression",
      "execution_count": 7,
      "outputs": [
        {
          "output_type": "execute_result",
          "data": {
            "text/html": [
              "<div>\n",
              "<style scoped>\n",
              "    .dataframe tbody tr th:only-of-type {\n",
              "        vertical-align: middle;\n",
              "    }\n",
              "\n",
              "    .dataframe tbody tr th {\n",
              "        vertical-align: top;\n",
              "    }\n",
              "\n",
              "    .dataframe thead th {\n",
              "        text-align: right;\n",
              "    }\n",
              "</style>\n",
              "<table border=\"1\" class=\"dataframe\">\n",
              "  <thead>\n",
              "    <tr style=\"text-align: right;\">\n",
              "      <th></th>\n",
              "      <th>id</th>\n",
              "      <th>keyword</th>\n",
              "      <th>location</th>\n",
              "      <th>text</th>\n",
              "      <th>target</th>\n",
              "    </tr>\n",
              "  </thead>\n",
              "  <tbody>\n",
              "    <tr>\n",
              "      <th>0</th>\n",
              "      <td>1</td>\n",
              "      <td>NaN</td>\n",
              "      <td>NaN</td>\n",
              "      <td>Our Deeds are the Reason of this #earthquake M...</td>\n",
              "      <td>1</td>\n",
              "    </tr>\n",
              "    <tr>\n",
              "      <th>1</th>\n",
              "      <td>4</td>\n",
              "      <td>NaN</td>\n",
              "      <td>NaN</td>\n",
              "      <td>Forest fire near La Ronge Sask. Canada</td>\n",
              "      <td>1</td>\n",
              "    </tr>\n",
              "    <tr>\n",
              "      <th>2</th>\n",
              "      <td>5</td>\n",
              "      <td>NaN</td>\n",
              "      <td>NaN</td>\n",
              "      <td>All residents asked to 'shelter in place' are ...</td>\n",
              "      <td>1</td>\n",
              "    </tr>\n",
              "    <tr>\n",
              "      <th>3</th>\n",
              "      <td>6</td>\n",
              "      <td>NaN</td>\n",
              "      <td>NaN</td>\n",
              "      <td>13,000 people receive #wildfires evacuation or...</td>\n",
              "      <td>1</td>\n",
              "    </tr>\n",
              "    <tr>\n",
              "      <th>4</th>\n",
              "      <td>7</td>\n",
              "      <td>NaN</td>\n",
              "      <td>NaN</td>\n",
              "      <td>Just got sent this photo from Ruby #Alaska as ...</td>\n",
              "      <td>1</td>\n",
              "    </tr>\n",
              "    <tr>\n",
              "      <th>5</th>\n",
              "      <td>8</td>\n",
              "      <td>NaN</td>\n",
              "      <td>NaN</td>\n",
              "      <td>#RockyFire Update =&gt; California Hwy. 20 closed...</td>\n",
              "      <td>1</td>\n",
              "    </tr>\n",
              "    <tr>\n",
              "      <th>6</th>\n",
              "      <td>10</td>\n",
              "      <td>NaN</td>\n",
              "      <td>NaN</td>\n",
              "      <td>#flood #disaster Heavy rain causes flash flood...</td>\n",
              "      <td>1</td>\n",
              "    </tr>\n",
              "    <tr>\n",
              "      <th>7</th>\n",
              "      <td>13</td>\n",
              "      <td>NaN</td>\n",
              "      <td>NaN</td>\n",
              "      <td>I'm on top of the hill and I can see a fire in...</td>\n",
              "      <td>1</td>\n",
              "    </tr>\n",
              "    <tr>\n",
              "      <th>8</th>\n",
              "      <td>14</td>\n",
              "      <td>NaN</td>\n",
              "      <td>NaN</td>\n",
              "      <td>There's an emergency evacuation happening now ...</td>\n",
              "      <td>1</td>\n",
              "    </tr>\n",
              "    <tr>\n",
              "      <th>9</th>\n",
              "      <td>15</td>\n",
              "      <td>NaN</td>\n",
              "      <td>NaN</td>\n",
              "      <td>I'm afraid that the tornado is coming to our a...</td>\n",
              "      <td>1</td>\n",
              "    </tr>\n",
              "    <tr>\n",
              "      <th>10</th>\n",
              "      <td>16</td>\n",
              "      <td>NaN</td>\n",
              "      <td>NaN</td>\n",
              "      <td>Three people died from the heat wave so far</td>\n",
              "      <td>1</td>\n",
              "    </tr>\n",
              "    <tr>\n",
              "      <th>11</th>\n",
              "      <td>17</td>\n",
              "      <td>NaN</td>\n",
              "      <td>NaN</td>\n",
              "      <td>Haha South Tampa is getting flooded hah- WAIT ...</td>\n",
              "      <td>1</td>\n",
              "    </tr>\n",
              "    <tr>\n",
              "      <th>12</th>\n",
              "      <td>18</td>\n",
              "      <td>NaN</td>\n",
              "      <td>NaN</td>\n",
              "      <td>#raining #flooding #Florida #TampaBay #Tampa 1...</td>\n",
              "      <td>1</td>\n",
              "    </tr>\n",
              "    <tr>\n",
              "      <th>13</th>\n",
              "      <td>19</td>\n",
              "      <td>NaN</td>\n",
              "      <td>NaN</td>\n",
              "      <td>#Flood in Bago Myanmar #We arrived Bago</td>\n",
              "      <td>1</td>\n",
              "    </tr>\n",
              "    <tr>\n",
              "      <th>14</th>\n",
              "      <td>20</td>\n",
              "      <td>NaN</td>\n",
              "      <td>NaN</td>\n",
              "      <td>Damage to school bus on 80 in multi car crash ...</td>\n",
              "      <td>1</td>\n",
              "    </tr>\n",
              "    <tr>\n",
              "      <th>15</th>\n",
              "      <td>23</td>\n",
              "      <td>NaN</td>\n",
              "      <td>NaN</td>\n",
              "      <td>What's up man?</td>\n",
              "      <td>0</td>\n",
              "    </tr>\n",
              "    <tr>\n",
              "      <th>16</th>\n",
              "      <td>24</td>\n",
              "      <td>NaN</td>\n",
              "      <td>NaN</td>\n",
              "      <td>I love fruits</td>\n",
              "      <td>0</td>\n",
              "    </tr>\n",
              "    <tr>\n",
              "      <th>17</th>\n",
              "      <td>25</td>\n",
              "      <td>NaN</td>\n",
              "      <td>NaN</td>\n",
              "      <td>Summer is lovely</td>\n",
              "      <td>0</td>\n",
              "    </tr>\n",
              "    <tr>\n",
              "      <th>18</th>\n",
              "      <td>26</td>\n",
              "      <td>NaN</td>\n",
              "      <td>NaN</td>\n",
              "      <td>My car is so fast</td>\n",
              "      <td>0</td>\n",
              "    </tr>\n",
              "    <tr>\n",
              "      <th>19</th>\n",
              "      <td>28</td>\n",
              "      <td>NaN</td>\n",
              "      <td>NaN</td>\n",
              "      <td>What a goooooooaaaaaal!!!!!!</td>\n",
              "      <td>0</td>\n",
              "    </tr>\n",
              "  </tbody>\n",
              "</table>\n",
              "</div>"
            ],
            "text/plain": [
              "    id keyword  ...                                               text target\n",
              "0    1     NaN  ...  Our Deeds are the Reason of this #earthquake M...      1\n",
              "1    4     NaN  ...             Forest fire near La Ronge Sask. Canada      1\n",
              "2    5     NaN  ...  All residents asked to 'shelter in place' are ...      1\n",
              "3    6     NaN  ...  13,000 people receive #wildfires evacuation or...      1\n",
              "4    7     NaN  ...  Just got sent this photo from Ruby #Alaska as ...      1\n",
              "5    8     NaN  ...  #RockyFire Update => California Hwy. 20 closed...      1\n",
              "6   10     NaN  ...  #flood #disaster Heavy rain causes flash flood...      1\n",
              "7   13     NaN  ...  I'm on top of the hill and I can see a fire in...      1\n",
              "8   14     NaN  ...  There's an emergency evacuation happening now ...      1\n",
              "9   15     NaN  ...  I'm afraid that the tornado is coming to our a...      1\n",
              "10  16     NaN  ...        Three people died from the heat wave so far      1\n",
              "11  17     NaN  ...  Haha South Tampa is getting flooded hah- WAIT ...      1\n",
              "12  18     NaN  ...  #raining #flooding #Florida #TampaBay #Tampa 1...      1\n",
              "13  19     NaN  ...            #Flood in Bago Myanmar #We arrived Bago      1\n",
              "14  20     NaN  ...  Damage to school bus on 80 in multi car crash ...      1\n",
              "15  23     NaN  ...                                     What's up man?      0\n",
              "16  24     NaN  ...                                      I love fruits      0\n",
              "17  25     NaN  ...                                   Summer is lovely      0\n",
              "18  26     NaN  ...                                  My car is so fast      0\n",
              "19  28     NaN  ...                       What a goooooooaaaaaal!!!!!!      0\n",
              "\n",
              "[20 rows x 5 columns]"
            ]
          },
          "metadata": {
            "tags": []
          },
          "execution_count": 7
        }
      ]
    },
    {
      "cell_type": "code",
      "metadata": {
        "execution": {
          "iopub.execute_input": "2021-05-04T15:53:51.031507Z",
          "iopub.status.busy": "2021-05-04T15:53:51.030542Z",
          "iopub.status.idle": "2021-05-04T15:53:51.035906Z",
          "shell.execute_reply": "2021-05-04T15:53:51.036367Z"
        },
        "papermill": {
          "duration": 0.041845,
          "end_time": "2021-05-04T15:53:51.036556",
          "exception": false,
          "start_time": "2021-05-04T15:53:50.994711",
          "status": "completed"
        },
        "tags": [],
        "colab": {
          "base_uri": "https://localhost:8080/"
        },
        "id": "collaborative-addiction",
        "outputId": "7469534b-ef8b-43ce-e2bc-9a269bd8281e"
      },
      "source": [
        "df.shape, test.shape"
      ],
      "id": "collaborative-addiction",
      "execution_count": 8,
      "outputs": [
        {
          "output_type": "execute_result",
          "data": {
            "text/plain": [
              "((7613, 5), (3263, 4))"
            ]
          },
          "metadata": {
            "tags": []
          },
          "execution_count": 8
        }
      ]
    },
    {
      "cell_type": "markdown",
      "metadata": {
        "papermill": {
          "duration": 0.033083,
          "end_time": "2021-05-04T15:53:51.102955",
          "exception": false,
          "start_time": "2021-05-04T15:53:51.069872",
          "status": "completed"
        },
        "tags": [],
        "id": "scheduled-emission"
      },
      "source": [
        "#### Plotting the number of  disaster and non disaster tweets"
      ],
      "id": "scheduled-emission"
    },
    {
      "cell_type": "code",
      "metadata": {
        "execution": {
          "iopub.execute_input": "2021-05-04T15:53:51.173711Z",
          "iopub.status.busy": "2021-05-04T15:53:51.172719Z",
          "iopub.status.idle": "2021-05-04T15:53:51.432236Z",
          "shell.execute_reply": "2021-05-04T15:53:51.432723Z"
        },
        "papermill": {
          "duration": 0.296232,
          "end_time": "2021-05-04T15:53:51.432900",
          "exception": false,
          "start_time": "2021-05-04T15:53:51.136668",
          "status": "completed"
        },
        "tags": [],
        "colab": {
          "base_uri": "https://localhost:8080/",
          "height": 279
        },
        "id": "urban-polymer",
        "outputId": "16a881bf-c81f-4476-fd09-32ffaa26cf58"
      },
      "source": [
        "sns.countplot(df[\"target\"]);"
      ],
      "id": "urban-polymer",
      "execution_count": 9,
      "outputs": [
        {
          "output_type": "display_data",
          "data": {
            "image/png": "[encoded data removed]",
            "text/plain": [
              "<Figure size 432x288 with 1 Axes>"
            ]
          },
          "metadata": {
            "tags": [],
            "needs_background": "light"
          }
        }
      ]
    },
    {
      "cell_type": "code",
      "metadata": {
        "execution": {
          "iopub.execute_input": "2021-05-04T15:53:51.507207Z",
          "iopub.status.busy": "2021-05-04T15:53:51.506186Z",
          "iopub.status.idle": "2021-05-04T15:53:51.533216Z",
          "shell.execute_reply": "2021-05-04T15:53:51.533731Z"
        },
        "papermill": {
          "duration": 0.065533,
          "end_time": "2021-05-04T15:53:51.533912",
          "exception": false,
          "start_time": "2021-05-04T15:53:51.468379",
          "status": "completed"
        },
        "tags": [],
        "colab": {
          "base_uri": "https://localhost:8080/"
        },
        "id": "stone-blues",
        "outputId": "722d0fa5-0062-4a15-a6c0-d98d7d92a1fd"
      },
      "source": [
        "df[\"target\"].value_counts(normalize = True) #normalized value counts"
      ],
      "id": "stone-blues",
      "execution_count": 10,
      "outputs": [
        {
          "output_type": "execute_result",
          "data": {
            "text/plain": [
              "0    0.57034\n",
              "1    0.42966\n",
              "Name: target, dtype: float64"
            ]
          },
          "metadata": {
            "tags": []
          },
          "execution_count": 10
        }
      ]
    },
    {
      "cell_type": "markdown",
      "metadata": {
        "papermill": {
          "duration": 0.034389,
          "end_time": "2021-05-04T15:53:51.603335",
          "exception": false,
          "start_time": "2021-05-04T15:53:51.568946",
          "status": "completed"
        },
        "tags": [],
        "id": "international-trinidad"
      },
      "source": [
        "#### Creating a function for plotting a histogram (for length of tweets)"
      ],
      "id": "international-trinidad"
    },
    {
      "cell_type": "code",
      "metadata": {
        "execution": {
          "iopub.execute_input": "2021-05-04T15:53:51.676517Z",
          "iopub.status.busy": "2021-05-04T15:53:51.675489Z",
          "iopub.status.idle": "2021-05-04T15:53:51.680351Z",
          "shell.execute_reply": "2021-05-04T15:53:51.680842Z"
        },
        "papermill": {
          "duration": 0.042942,
          "end_time": "2021-05-04T15:53:51.681018",
          "exception": false,
          "start_time": "2021-05-04T15:53:51.638076",
          "status": "completed"
        },
        "tags": [],
        "id": "allied-coordinator"
      },
      "source": [
        "def len_plot(data, name):\n",
        "  length = [len(sent.split()) for sent in data]\n",
        "  plt.hist(length)\n",
        "  plt.title(name)"
      ],
      "id": "allied-coordinator",
      "execution_count": 11,
      "outputs": []
    },
    {
      "cell_type": "code",
      "metadata": {
        "execution": {
          "iopub.execute_input": "2021-05-04T15:53:51.754923Z",
          "iopub.status.busy": "2021-05-04T15:53:51.753949Z",
          "iopub.status.idle": "2021-05-04T15:53:51.999776Z",
          "shell.execute_reply": "2021-05-04T15:53:52.000261Z"
        },
        "papermill": {
          "duration": 0.283995,
          "end_time": "2021-05-04T15:53:52.000465",
          "exception": false,
          "start_time": "2021-05-04T15:53:51.716470",
          "status": "completed"
        },
        "tags": [],
        "colab": {
          "base_uri": "https://localhost:8080/",
          "height": 281
        },
        "id": "turned-production",
        "outputId": "86212536-b9c2-4b81-c835-cbb9b944c6d4"
      },
      "source": [
        "len_plot(df[df[\"target\"]==0][\"text\"], \"Not Disaster\") #passing non disaster tweets"
      ],
      "id": "turned-production",
      "execution_count": 12,
      "outputs": [
        {
          "output_type": "display_data",
          "data": {
            "image/png": "[encoded data removed]",
            "text/plain": [
              "<Figure size 432x288 with 1 Axes>"
            ]
          },
          "metadata": {
            "tags": [],
            "needs_background": "light"
          }
        }
      ]
    },
    {
      "cell_type": "code",
      "metadata": {
        "execution": {
          "iopub.execute_input": "2021-05-04T15:53:52.076498Z",
          "iopub.status.busy": "2021-05-04T15:53:52.075472Z",
          "iopub.status.idle": "2021-05-04T15:53:52.311639Z",
          "shell.execute_reply": "2021-05-04T15:53:52.312143Z"
        },
        "papermill": {
          "duration": 0.276138,
          "end_time": "2021-05-04T15:53:52.312333",
          "exception": false,
          "start_time": "2021-05-04T15:53:52.036195",
          "status": "completed"
        },
        "tags": [],
        "colab": {
          "base_uri": "https://localhost:8080/",
          "height": 281
        },
        "id": "streaming-aluminum",
        "outputId": "96795bbb-71ec-4ce9-b207-088cae63b527"
      },
      "source": [
        "len_plot(df[df[\"target\"]==1][\"text\"], \"Disaster\") #passing disaster tweets"
      ],
      "id": "streaming-aluminum",
      "execution_count": 13,
      "outputs": [
        {
          "output_type": "display_data",
          "data": {
            "image/png": "[encoded data removed]",
            "text/plain": [
              "<Figure size 432x288 with 1 Axes>"
            ]
          },
          "metadata": {
            "tags": [],
            "needs_background": "light"
          }
        }
      ]
    },
    {
      "cell_type": "markdown",
      "metadata": {
        "papermill": {
          "duration": 0.036089,
          "end_time": "2021-05-04T15:53:52.385356",
          "exception": false,
          "start_time": "2021-05-04T15:53:52.349267",
          "status": "completed"
        },
        "tags": [],
        "id": "romantic-christian"
      },
      "source": [
        "#### Separating input and output features"
      ],
      "id": "romantic-christian"
    },
    {
      "cell_type": "code",
      "metadata": {
        "execution": {
          "iopub.execute_input": "2021-05-04T15:53:52.463094Z",
          "iopub.status.busy": "2021-05-04T15:53:52.462441Z",
          "iopub.status.idle": "2021-05-04T15:53:52.466260Z",
          "shell.execute_reply": "2021-05-04T15:53:52.466791Z"
        },
        "papermill": {
          "duration": 0.044961,
          "end_time": "2021-05-04T15:53:52.466951",
          "exception": false,
          "start_time": "2021-05-04T15:53:52.421990",
          "status": "completed"
        },
        "tags": [],
        "id": "damaged-arcade"
      },
      "source": [
        "X = df[\"text\"] # indpendent\n",
        "y = df[\"target\"] # dependent\n",
        "y = np.array(y) # converting into array"
      ],
      "id": "damaged-arcade",
      "execution_count": 14,
      "outputs": []
    },
    {
      "cell_type": "markdown",
      "metadata": {
        "papermill": {
          "duration": 0.036221,
          "end_time": "2021-05-04T15:53:52.539949",
          "exception": false,
          "start_time": "2021-05-04T15:53:52.503728",
          "status": "completed"
        },
        "tags": [],
        "id": "technological-writing"
      },
      "source": [
        "#### Function for finding the number of unique words in our dataset"
      ],
      "id": "technological-writing"
    },
    {
      "cell_type": "code",
      "metadata": {
        "execution": {
          "iopub.execute_input": "2021-05-04T15:53:52.616336Z",
          "iopub.status.busy": "2021-05-04T15:53:52.615674Z",
          "iopub.status.idle": "2021-05-04T15:54:03.308707Z",
          "shell.execute_reply": "2021-05-04T15:54:03.308000Z"
        },
        "papermill": {
          "duration": 10.732378,
          "end_time": "2021-05-04T15:54:03.308854",
          "exception": false,
          "start_time": "2021-05-04T15:53:52.576476",
          "status": "completed"
        },
        "tags": [],
        "colab": {
          "base_uri": "https://localhost:8080/"
        },
        "id": "duplicate-simple",
        "outputId": "e89827fd-7399-49e8-fa28-96e0a51441b6"
      },
      "source": [
        "def unique_words(text):\n",
        "  unique_words_list = []\n",
        "  for sent in tqdm(text):\n",
        "    for word in sent.split():\n",
        "      if word.lower() not in unique_words_list:\n",
        "        unique_words_list.append(word.lower())\n",
        "      else:\n",
        "        pass\n",
        "  return unique_words_list\n",
        "un_words = unique_words(X)"
      ],
      "id": "duplicate-simple",
      "execution_count": 15,
      "outputs": [
        {
          "output_type": "stream",
          "text": [
            "100%|██████████| 7613/7613 [00:10<00:00, 693.26it/s]\n"
          ],
          "name": "stderr"
        }
      ]
    },
    {
      "cell_type": "code",
      "metadata": {
        "execution": {
          "iopub.execute_input": "2021-05-04T15:54:03.451004Z",
          "iopub.status.busy": "2021-05-04T15:54:03.450291Z",
          "iopub.status.idle": "2021-05-04T15:54:03.455906Z",
          "shell.execute_reply": "2021-05-04T15:54:03.455034Z"
        },
        "papermill": {
          "duration": 0.07825,
          "end_time": "2021-05-04T15:54:03.456123",
          "exception": false,
          "start_time": "2021-05-04T15:54:03.377873",
          "status": "completed"
        },
        "tags": [],
        "colab": {
          "base_uri": "https://localhost:8080/"
        },
        "id": "previous-undergraduate",
        "outputId": "94a45d4c-76fa-4355-868d-e50c76da7765"
      },
      "source": [
        "print(\"Total number of unique words :\",len(un_words))"
      ],
      "id": "previous-undergraduate",
      "execution_count": 16,
      "outputs": [
        {
          "output_type": "stream",
          "text": [
            "Total number of unique words : 27983\n"
          ],
          "name": "stdout"
        }
      ]
    },
    {
      "cell_type": "code",
      "metadata": {
        "execution": {
          "iopub.execute_input": "2021-05-04T15:54:03.597668Z",
          "iopub.status.busy": "2021-05-04T15:54:03.596844Z",
          "iopub.status.idle": "2021-05-04T15:54:03.601519Z",
          "shell.execute_reply": "2021-05-04T15:54:03.600887Z"
        },
        "papermill": {
          "duration": 0.077064,
          "end_time": "2021-05-04T15:54:03.601658",
          "exception": false,
          "start_time": "2021-05-04T15:54:03.524594",
          "status": "completed"
        },
        "tags": [],
        "colab": {
          "base_uri": "https://localhost:8080/"
        },
        "id": "civic-behavior",
        "outputId": "d485ee89-fa38-4ae9-d84b-dce2255d0746"
      },
      "source": [
        "un_words[:50]"
      ],
      "id": "civic-behavior",
      "execution_count": 17,
      "outputs": [
        {
          "output_type": "execute_result",
          "data": {
            "text/plain": [
              "['our',\n",
              " 'deeds',\n",
              " 'are',\n",
              " 'the',\n",
              " 'reason',\n",
              " 'of',\n",
              " 'this',\n",
              " '#earthquake',\n",
              " 'may',\n",
              " 'allah',\n",
              " 'forgive',\n",
              " 'us',\n",
              " 'all',\n",
              " 'forest',\n",
              " 'fire',\n",
              " 'near',\n",
              " 'la',\n",
              " 'ronge',\n",
              " 'sask.',\n",
              " 'canada',\n",
              " 'residents',\n",
              " 'asked',\n",
              " 'to',\n",
              " \"'shelter\",\n",
              " 'in',\n",
              " \"place'\",\n",
              " 'being',\n",
              " 'notified',\n",
              " 'by',\n",
              " 'officers.',\n",
              " 'no',\n",
              " 'other',\n",
              " 'evacuation',\n",
              " 'or',\n",
              " 'shelter',\n",
              " 'place',\n",
              " 'orders',\n",
              " 'expected',\n",
              " '13,000',\n",
              " 'people',\n",
              " 'receive',\n",
              " '#wildfires',\n",
              " 'california',\n",
              " 'just',\n",
              " 'got',\n",
              " 'sent',\n",
              " 'photo',\n",
              " 'from',\n",
              " 'ruby',\n",
              " '#alaska']"
            ]
          },
          "metadata": {
            "tags": []
          },
          "execution_count": 17
        }
      ]
    },
    {
      "cell_type": "markdown",
      "metadata": {
        "papermill": {
          "duration": 0.069013,
          "end_time": "2021-05-04T15:54:03.740135",
          "exception": false,
          "start_time": "2021-05-04T15:54:03.671122",
          "status": "completed"
        },
        "tags": [],
        "id": "welsh-brush"
      },
      "source": [
        "#### As it is a twitter dataset, it contains several words starting with \"@\" and \"#\". Let's find this words"
      ],
      "id": "welsh-brush"
    },
    {
      "cell_type": "markdown",
      "metadata": {
        "papermill": {
          "duration": 0.067676,
          "end_time": "2021-05-04T15:54:03.876504",
          "exception": false,
          "start_time": "2021-05-04T15:54:03.808828",
          "status": "completed"
        },
        "tags": [],
        "id": "blessed-doctrine"
      },
      "source": [
        "#### words with starting letter \"#\""
      ],
      "id": "blessed-doctrine"
    },
    {
      "cell_type": "code",
      "metadata": {
        "execution": {
          "iopub.execute_input": "2021-05-04T15:54:04.025216Z",
          "iopub.status.busy": "2021-05-04T15:54:04.024255Z",
          "iopub.status.idle": "2021-05-04T15:54:04.028801Z",
          "shell.execute_reply": "2021-05-04T15:54:04.028159Z"
        },
        "papermill": {
          "duration": 0.084118,
          "end_time": "2021-05-04T15:54:04.028939",
          "exception": false,
          "start_time": "2021-05-04T15:54:03.944821",
          "status": "completed"
        },
        "tags": [],
        "colab": {
          "base_uri": "https://localhost:8080/"
        },
        "id": "ranking-disability",
        "outputId": "06a94e77-d844-4b8e-fa03-72117abba892"
      },
      "source": [
        "SYMBOL1 = \"#\"\n",
        "words_sym1 = [word for word in un_words if word.startswith(SYMBOL1)]\n",
        "len(words_sym1)"
      ],
      "id": "ranking-disability",
      "execution_count": 18,
      "outputs": [
        {
          "output_type": "execute_result",
          "data": {
            "text/plain": [
              "1965"
            ]
          },
          "metadata": {
            "tags": []
          },
          "execution_count": 18
        }
      ]
    },
    {
      "cell_type": "code",
      "metadata": {
        "execution": {
          "iopub.execute_input": "2021-05-04T15:54:04.168944Z",
          "iopub.status.busy": "2021-05-04T15:54:04.168147Z",
          "iopub.status.idle": "2021-05-04T15:54:04.171583Z",
          "shell.execute_reply": "2021-05-04T15:54:04.170943Z"
        },
        "papermill": {
          "duration": 0.075795,
          "end_time": "2021-05-04T15:54:04.171724",
          "exception": false,
          "start_time": "2021-05-04T15:54:04.095929",
          "status": "completed"
        },
        "tags": [],
        "colab": {
          "base_uri": "https://localhost:8080/"
        },
        "id": "attempted-hawaii",
        "outputId": "0f437df9-c12a-4e3a-b49a-1e71c6770695"
      },
      "source": [
        "words_sym1[:50]"
      ],
      "id": "attempted-hawaii",
      "execution_count": 19,
      "outputs": [
        {
          "output_type": "execute_result",
          "data": {
            "text/plain": [
              "['#earthquake',\n",
              " '#wildfires',\n",
              " '#alaska',\n",
              " '#rockyfire',\n",
              " '#cafire',\n",
              " '#flood',\n",
              " '#disaster',\n",
              " '#flooding',\n",
              " '#raining',\n",
              " '#florida',\n",
              " '#tampabay',\n",
              " '#tampa',\n",
              " '#we',\n",
              " '#breaking',\n",
              " '#metal',\n",
              " '#rt',\n",
              " '#africanbaze:',\n",
              " '#mufc',\n",
              " '#bridgetown',\n",
              " '#nsfw',\n",
              " '#kurds',\n",
              " '#diyala',\n",
              " '#california',\n",
              " '#climate',\n",
              " '#energy',\n",
              " '#nowplaying:',\n",
              " '#edm',\n",
              " '#nashvilletraffic.',\n",
              " '#santaclara',\n",
              " '#bayarea',\n",
              " '#traffic',\n",
              " '#personalinjury',\n",
              " '#solicitor',\n",
              " '#otleyhour',\n",
              " '#stlouis',\n",
              " '#caraccidentlawyer',\n",
              " '#truckcrash',\n",
              " '#fortworth',\n",
              " '#ashville',\n",
              " '#manchester',\n",
              " '#breaking:',\n",
              " '#hagerstown',\n",
              " '#whag',\n",
              " '#bahrain',\n",
              " '#dubstep',\n",
              " '#trapmusic',\n",
              " '#dnb',\n",
              " '#dance',\n",
              " '#ices\\x89û_',\n",
              " '#growingupspoiled']"
            ]
          },
          "metadata": {
            "tags": []
          },
          "execution_count": 19
        }
      ]
    },
    {
      "cell_type": "markdown",
      "metadata": {
        "papermill": {
          "duration": 0.066038,
          "end_time": "2021-05-04T15:54:04.304924",
          "exception": false,
          "start_time": "2021-05-04T15:54:04.238886",
          "status": "completed"
        },
        "tags": [],
        "id": "weekly-energy"
      },
      "source": [
        "#### words with starting letter \"@\""
      ],
      "id": "weekly-energy"
    },
    {
      "cell_type": "code",
      "metadata": {
        "execution": {
          "iopub.execute_input": "2021-05-04T15:54:04.449339Z",
          "iopub.status.busy": "2021-05-04T15:54:04.448444Z",
          "iopub.status.idle": "2021-05-04T15:54:04.451740Z",
          "shell.execute_reply": "2021-05-04T15:54:04.452223Z"
        },
        "papermill": {
          "duration": 0.0807,
          "end_time": "2021-05-04T15:54:04.452406",
          "exception": false,
          "start_time": "2021-05-04T15:54:04.371706",
          "status": "completed"
        },
        "tags": [],
        "colab": {
          "base_uri": "https://localhost:8080/"
        },
        "id": "handled-hindu",
        "outputId": "abe02dc3-5a52-42c1-923d-c8a26a252bdb"
      },
      "source": [
        "# words with starting letter \"@\"\n",
        "SYMBOL2 = \"@\"\n",
        "words_sym2 = [word for word in un_words if word.startswith(SYMBOL2)]\n",
        "len(words_sym2)"
      ],
      "id": "handled-hindu",
      "execution_count": 20,
      "outputs": [
        {
          "output_type": "execute_result",
          "data": {
            "text/plain": [
              "2264"
            ]
          },
          "metadata": {
            "tags": []
          },
          "execution_count": 20
        }
      ]
    },
    {
      "cell_type": "code",
      "metadata": {
        "execution": {
          "iopub.execute_input": "2021-05-04T15:54:04.590331Z",
          "iopub.status.busy": "2021-05-04T15:54:04.589293Z",
          "iopub.status.idle": "2021-05-04T15:54:04.596006Z",
          "shell.execute_reply": "2021-05-04T15:54:04.596687Z"
        },
        "papermill": {
          "duration": 0.077262,
          "end_time": "2021-05-04T15:54:04.596859",
          "exception": false,
          "start_time": "2021-05-04T15:54:04.519597",
          "status": "completed"
        },
        "tags": [],
        "colab": {
          "base_uri": "https://localhost:8080/"
        },
        "id": "assured-cutting",
        "outputId": "59870d1b-1780-45ff-c481-720c2a441b93"
      },
      "source": [
        "words_sym2[:50]"
      ],
      "id": "assured-cutting",
      "execution_count": 21,
      "outputs": [
        {
          "output_type": "execute_result",
          "data": {
            "text/plain": [
              "['@bbcmtd',\n",
              " '@phdsquares',\n",
              " '@southridgelife',\n",
              " '@\\x89û_',\n",
              " '@navista7',\n",
              " '@news24680',\n",
              " '@nxwestmidlands',\n",
              " '@ablaze',\n",
              " '@sleepjunkies:',\n",
              " '@your4state.',\n",
              " '@flowri',\n",
              " '@aftershock_delo',\n",
              " '@djicemoon',\n",
              " '@kjfordays',\n",
              " '@esquireattire',\n",
              " '@onfireanders',\n",
              " '@cod8sandscrims',\n",
              " '@empirikgaming',\n",
              " '@codawscrims',\n",
              " '@4tp_kotc',\n",
              " '@4tpfa',\n",
              " '@aftershock_org',\n",
              " '@crobscarla',\n",
              " '@alexalltimelow',\n",
              " '@youtube',\n",
              " '@mickinyman',\n",
              " '@theatlantic',\n",
              " '@20skyhawkmm20',\n",
              " '@traplord_29',\n",
              " '@fredosantana300',\n",
              " '@lilreese300',\n",
              " '@tanslash',\n",
              " '@fouseytube',\n",
              " '@thenissonian',\n",
              " '@rejectdcartoons',\n",
              " '@kiwi_karyn',\n",
              " '@medic914',\n",
              " '@aace_org',\n",
              " '@marksmaponyane',\n",
              " '@volfan326',\n",
              " '@tneazzy',\n",
              " '@acarewornheart',\n",
              " '@viralspell',\n",
              " '@amirkingkhan',\n",
              " '@floydmayweather',\n",
              " '@violentfeminazi',\n",
              " '@philipduncan',\n",
              " '@breakfastone',\n",
              " '@stormbeard',\n",
              " '@steel_lord']"
            ]
          },
          "metadata": {
            "tags": []
          },
          "execution_count": 21
        }
      ]
    },
    {
      "cell_type": "markdown",
      "metadata": {
        "papermill": {
          "duration": 0.06989,
          "end_time": "2021-05-04T15:54:04.737601",
          "exception": false,
          "start_time": "2021-05-04T15:54:04.667711",
          "status": "completed"
        },
        "tags": [],
        "id": "isolated-reunion"
      },
      "source": [
        "Since many of the words starting with \"@\" doesn't give any impact to our model accuracy, so we need to remove it"
      ],
      "id": "isolated-reunion"
    },
    {
      "cell_type": "markdown",
      "metadata": {
        "papermill": {
          "duration": 0.071551,
          "end_time": "2021-05-04T15:54:04.880464",
          "exception": false,
          "start_time": "2021-05-04T15:54:04.808913",
          "status": "completed"
        },
        "tags": [],
        "id": "committed-venice"
      },
      "source": [
        "#### Function for url removing"
      ],
      "id": "committed-venice"
    },
    {
      "cell_type": "code",
      "metadata": {
        "execution": {
          "iopub.execute_input": "2021-05-04T15:54:05.027852Z",
          "iopub.status.busy": "2021-05-04T15:54:05.026869Z",
          "iopub.status.idle": "2021-05-04T15:54:05.032868Z",
          "shell.execute_reply": "2021-05-04T15:54:05.032295Z"
        },
        "papermill": {
          "duration": 0.080681,
          "end_time": "2021-05-04T15:54:05.033037",
          "exception": false,
          "start_time": "2021-05-04T15:54:04.952356",
          "status": "completed"
        },
        "tags": [],
        "id": "elegant-flood"
      },
      "source": [
        "def remove_urls(text):\n",
        "    url_pattern = re.compile(r'https?://\\S+|www\\.\\S+')\n",
        "    return url_pattern.sub(r'', text)"
      ],
      "id": "elegant-flood",
      "execution_count": 22,
      "outputs": []
    },
    {
      "cell_type": "markdown",
      "metadata": {
        "papermill": {
          "duration": 0.068904,
          "end_time": "2021-05-04T15:54:05.171252",
          "exception": false,
          "start_time": "2021-05-04T15:54:05.102348",
          "status": "completed"
        },
        "tags": [],
        "id": "unnecessary-limit"
      },
      "source": [
        "#### Lemmatizer"
      ],
      "id": "unnecessary-limit"
    },
    {
      "cell_type": "code",
      "metadata": {
        "execution": {
          "iopub.execute_input": "2021-05-04T15:54:05.314976Z",
          "iopub.status.busy": "2021-05-04T15:54:05.314178Z",
          "iopub.status.idle": "2021-05-04T15:54:05.316666Z",
          "shell.execute_reply": "2021-05-04T15:54:05.317101Z"
        },
        "papermill": {
          "duration": 0.077755,
          "end_time": "2021-05-04T15:54:05.317269",
          "exception": false,
          "start_time": "2021-05-04T15:54:05.239514",
          "status": "completed"
        },
        "tags": [],
        "id": "magnetic-proportion"
      },
      "source": [
        "from nltk.stem import WordNetLemmatizer\n",
        "wl = WordNetLemmatizer()"
      ],
      "id": "magnetic-proportion",
      "execution_count": 23,
      "outputs": []
    },
    {
      "cell_type": "code",
      "metadata": {
        "colab": {
          "base_uri": "https://localhost:8080/"
        },
        "id": "cem9EwC3GkDc",
        "outputId": "53de4708-10da-457b-c66d-d5431fdf150a"
      },
      "source": [
        "import nltk\n",
        "nltk.download('stopwords')\n",
        "nltk.download('wordnet')\n"
      ],
      "id": "cem9EwC3GkDc",
      "execution_count": 27,
      "outputs": [
        {
          "output_type": "stream",
          "text": [
            "[nltk_data] Downloading package stopwords to /root/nltk_data...\n",
            "[nltk_data]   Package stopwords is already up-to-date!\n",
            "[nltk_data] Downloading package wordnet to /root/nltk_data...\n",
            "[nltk_data]   Unzipping corpora/wordnet.zip.\n"
          ],
          "name": "stdout"
        },
        {
          "output_type": "execute_result",
          "data": {
            "text/plain": [
              "True"
            ]
          },
          "metadata": {
            "tags": []
          },
          "execution_count": 27
        }
      ]
    },
    {
      "cell_type": "markdown",
      "metadata": {
        "papermill": {
          "duration": 0.070055,
          "end_time": "2021-05-04T15:54:05.457661",
          "exception": false,
          "start_time": "2021-05-04T15:54:05.387606",
          "status": "completed"
        },
        "tags": [],
        "id": "inner-worship"
      },
      "source": [
        "#### Preprocessing function"
      ],
      "id": "inner-worship"
    },
    {
      "cell_type": "code",
      "metadata": {
        "execution": {
          "iopub.execute_input": "2021-05-04T15:54:05.608193Z",
          "iopub.status.busy": "2021-05-04T15:54:05.607354Z",
          "iopub.status.idle": "2021-05-04T15:54:22.804356Z",
          "shell.execute_reply": "2021-05-04T15:54:22.803711Z"
        },
        "papermill": {
          "duration": 17.275845,
          "end_time": "2021-05-04T15:54:22.804498",
          "exception": false,
          "start_time": "2021-05-04T15:54:05.528653",
          "status": "completed"
        },
        "tags": [],
        "colab": {
          "base_uri": "https://localhost:8080/"
        },
        "id": "sealed-proceeding",
        "outputId": "eda1f366-39a1-4fc1-a2de-4f81c5538391"
      },
      "source": [
        "def preprocessing(text):\n",
        "  \n",
        "  tweets = []\n",
        "  for tweet in tqdm(text):\n",
        "    tweet = tweet.lower() # converting to lower case\n",
        "    tweet =  remove_urls(tweet) # url removing\n",
        "    tweet = re.sub(r'@\\w+',  '', tweet).strip() # removing the words start with \"@\"\n",
        "    tweet = re.sub(\"[^a-zA-Z0-9 ']\", \"\", tweet) # removing unwanted symbols\n",
        "    tweet = tweet.split()\n",
        "    tweet1 = [wl.lemmatize(word) for word in tweet if word not in set(stopwords.words(\"english\"))] #lemmatization and stopwrds removal\n",
        "    tweet1 = \" \".join(tweet1)\n",
        "    tweets.append(tweet1)\n",
        "  return tweets\n",
        "\n",
        "tweets = preprocessing(X)"
      ],
      "id": "sealed-proceeding",
      "execution_count": 28,
      "outputs": [
        {
          "output_type": "stream",
          "text": [
            "100%|██████████| 7613/7613 [00:15<00:00, 506.58it/s]\n"
          ],
          "name": "stderr"
        }
      ]
    },
    {
      "cell_type": "code",
      "metadata": {
        "execution": {
          "iopub.execute_input": "2021-05-04T15:54:23.035872Z",
          "iopub.status.busy": "2021-05-04T15:54:23.034953Z",
          "iopub.status.idle": "2021-05-04T15:54:23.039349Z",
          "shell.execute_reply": "2021-05-04T15:54:23.038841Z"
        },
        "papermill": {
          "duration": 0.122922,
          "end_time": "2021-05-04T15:54:23.039489",
          "exception": false,
          "start_time": "2021-05-04T15:54:22.916567",
          "status": "completed"
        },
        "tags": [],
        "colab": {
          "base_uri": "https://localhost:8080/"
        },
        "id": "monetary-limit",
        "outputId": "b7ff962a-5a97-4db6-f7cc-05a8dd62a910"
      },
      "source": [
        "tweets[:50]"
      ],
      "id": "monetary-limit",
      "execution_count": 29,
      "outputs": [
        {
          "output_type": "execute_result",
          "data": {
            "text/plain": [
              "['deed reason earthquake may allah forgive u',\n",
              " 'forest fire near la ronge sask canada',\n",
              " \"resident asked 'shelter place' notified officer evacuation shelter place order expected\",\n",
              " '13000 people receive wildfire evacuation order california',\n",
              " 'got sent photo ruby alaska smoke wildfire pours school',\n",
              " 'rockyfire update california hwy 20 closed direction due lake county fire cafire wildfire',\n",
              " 'flood disaster heavy rain cause flash flooding street manitou colorado spring area',\n",
              " \"i'm top hill see fire wood\",\n",
              " \"there's emergency evacuation happening building across street\",\n",
              " \"i'm afraid tornado coming area\",\n",
              " 'three people died heat wave far',\n",
              " 'haha south tampa getting flooded hah wait second live south tampa gonna gonna fvck flooding',\n",
              " \"raining flooding florida tampabay tampa 18 19 day i've lost count\",\n",
              " 'flood bago myanmar arrived bago',\n",
              " 'damage school bus 80 multi car crash breaking',\n",
              " \"what's man\",\n",
              " 'love fruit',\n",
              " 'summer lovely',\n",
              " 'car fast',\n",
              " 'goooooooaaaaaal',\n",
              " 'ridiculous',\n",
              " 'london cool',\n",
              " 'love skiing',\n",
              " 'wonderful day',\n",
              " 'looooool',\n",
              " \"wayi can't eat shit\",\n",
              " 'nyc last week',\n",
              " 'love girlfriend',\n",
              " 'cooool',\n",
              " 'like pasta',\n",
              " 'end',\n",
              " 'wholesale market ablaze',\n",
              " 'always try bring heavy metal rt',\n",
              " 'africanbaze breaking newsnigeria flag set ablaze aba',\n",
              " 'cry set ablaze',\n",
              " 'plus side look sky last night ablaze',\n",
              " \"mufc they've built much hype around new acquisition doubt set epl ablaze season\",\n",
              " 'inec office abia set ablaze',\n",
              " 'barbados bridgetown jamaica two car set ablaze santa cruz head st elizabeth police superintende',\n",
              " 'ablaze lord',\n",
              " 'check nsfw',\n",
              " 'outside ablaze alivebut dead inside',\n",
              " 'awesome time visiting cfc head office ancop site ablaze thanks tita vida taking care u',\n",
              " 'soooo pumped ablaze',\n",
              " 'wanted set chicago ablaze preaching hotel',\n",
              " 'gained 3 follower last week know stats grow',\n",
              " 'west burned thousand wildfire ablaze california alone',\n",
              " 'building perfect tracklist life leave street ablaze',\n",
              " 'check nsfw',\n",
              " 'first night retainer quite weird better get used wear every single night next year least']"
            ]
          },
          "metadata": {
            "tags": []
          },
          "execution_count": 29
        }
      ]
    },
    {
      "cell_type": "markdown",
      "metadata": {
        "papermill": {
          "duration": 0.113474,
          "end_time": "2021-05-04T15:54:23.492525",
          "exception": false,
          "start_time": "2021-05-04T15:54:23.379051",
          "status": "completed"
        },
        "tags": [],
        "id": "double-rebound"
      },
      "source": [
        "### LSTM"
      ],
      "id": "double-rebound"
    },
    {
      "cell_type": "code",
      "metadata": {
        "execution": {
          "iopub.execute_input": "2021-05-04T15:54:23.722809Z",
          "iopub.status.busy": "2021-05-04T15:54:23.721799Z",
          "iopub.status.idle": "2021-05-04T15:54:29.450309Z",
          "shell.execute_reply": "2021-05-04T15:54:29.449695Z"
        },
        "papermill": {
          "duration": 5.846213,
          "end_time": "2021-05-04T15:54:29.450515",
          "exception": false,
          "start_time": "2021-05-04T15:54:23.604302",
          "status": "completed"
        },
        "tags": [],
        "id": "international-bahamas"
      },
      "source": [
        "# importing libraries\n",
        "import tensorflow as tf\n",
        "tf.__version__\n",
        "\n",
        "from tensorflow.keras.layers import (Embedding,\n",
        "                                     LSTM,\n",
        "                                     Dense,\n",
        "                                     Dropout,\n",
        "                                     GlobalMaxPool1D,\n",
        "                                     BatchNormalization)\n",
        "from tensorflow.keras.models import Sequential\n",
        "from tensorflow.keras.preprocessing.sequence import pad_sequences\n",
        "from tensorflow.keras.preprocessing.text import one_hot"
      ],
      "id": "international-bahamas",
      "execution_count": 30,
      "outputs": []
    },
    {
      "cell_type": "markdown",
      "metadata": {
        "papermill": {
          "duration": 0.114617,
          "end_time": "2021-05-04T15:54:29.684930",
          "exception": false,
          "start_time": "2021-05-04T15:54:29.570313",
          "status": "completed"
        },
        "tags": [],
        "id": "classified-pharmacy"
      },
      "source": [
        "#### Performing onehot encoding"
      ],
      "id": "classified-pharmacy"
    },
    {
      "cell_type": "code",
      "metadata": {
        "execution": {
          "iopub.execute_input": "2021-05-04T15:54:29.933764Z",
          "iopub.status.busy": "2021-05-04T15:54:29.928600Z",
          "iopub.status.idle": "2021-05-04T15:54:30.031080Z",
          "shell.execute_reply": "2021-05-04T15:54:30.030513Z"
        },
        "papermill": {
          "duration": 0.234416,
          "end_time": "2021-05-04T15:54:30.031340",
          "exception": false,
          "start_time": "2021-05-04T15:54:29.796924",
          "status": "completed"
        },
        "tags": [],
        "colab": {
          "base_uri": "https://localhost:8080/"
        },
        "id": "dietary-census",
        "outputId": "32d85b23-2bb2-4edc-cc16-1d399aefbe47"
      },
      "source": [
        "VOC_SIZE = 30000\n",
        "onehot_repr = [one_hot(words, VOC_SIZE) for words in tweets]\n",
        "onehot_repr[100:110]"
      ],
      "id": "dietary-census",
      "execution_count": 31,
      "outputs": [
        {
          "output_type": "execute_result",
          "data": {
            "text/plain": [
              "[[23991, 21598, 15731, 1866, 9172, 20752, 18459, 28331],\n",
              " [27782, 14655, 819, 6843, 7183, 19332, 25854, 9017, 20752, 4196, 5451, 18022],\n",
              " [27071, 14750, 9998, 20188, 15094],\n",
              " [5159, 27273, 21606, 14050, 414, 7388, 27273, 8394, 3739, 143],\n",
              " [5350, 13646, 8564, 1598, 15835, 14338, 6502, 22390, 25456, 20310],\n",
              " [5495, 19766, 17096, 19634, 3543, 7770, 5806, 25705],\n",
              " [5350, 13646, 8564, 1598, 15835, 14338, 6502, 22390, 25456, 20310],\n",
              " [29965, 5330, 9785, 24434, 2589, 25128],\n",
              " [19207, 15078, 4853, 9101, 27071, 4764, 29273, 8452, 18922, 14750, 19245],\n",
              " [5159, 29383, 23467, 19371, 2206, 3350, 28671]]"
            ]
          },
          "metadata": {
            "tags": []
          },
          "execution_count": 31
        }
      ]
    },
    {
      "cell_type": "code",
      "metadata": {
        "execution": {
          "iopub.execute_input": "2021-05-04T15:54:30.268118Z",
          "iopub.status.busy": "2021-05-04T15:54:30.267176Z",
          "iopub.status.idle": "2021-05-04T15:54:30.271027Z",
          "shell.execute_reply": "2021-05-04T15:54:30.271517Z"
        },
        "papermill": {
          "duration": 0.126179,
          "end_time": "2021-05-04T15:54:30.271692",
          "exception": false,
          "start_time": "2021-05-04T15:54:30.145513",
          "status": "completed"
        },
        "tags": [],
        "colab": {
          "base_uri": "https://localhost:8080/"
        },
        "id": "terminal-rover",
        "outputId": "58875e9d-7b6b-42e8-ada3-d109d460f62c"
      },
      "source": [
        "# finding sentence length for each tweets\n",
        "word_length = []\n",
        "for i in onehot_repr:\n",
        "  word_length.append(len(i))\n",
        "\n",
        "len(word_length)"
      ],
      "id": "terminal-rover",
      "execution_count": 32,
      "outputs": [
        {
          "output_type": "execute_result",
          "data": {
            "text/plain": [
              "7613"
            ]
          },
          "metadata": {
            "tags": []
          },
          "execution_count": 32
        }
      ]
    },
    {
      "cell_type": "code",
      "metadata": {
        "execution": {
          "iopub.execute_input": "2021-05-04T15:54:30.503807Z",
          "iopub.status.busy": "2021-05-04T15:54:30.503100Z",
          "iopub.status.idle": "2021-05-04T15:54:30.505806Z",
          "shell.execute_reply": "2021-05-04T15:54:30.506237Z"
        },
        "papermill": {
          "duration": 0.121929,
          "end_time": "2021-05-04T15:54:30.506424",
          "exception": false,
          "start_time": "2021-05-04T15:54:30.384495",
          "status": "completed"
        },
        "tags": [],
        "colab": {
          "base_uri": "https://localhost:8080/"
        },
        "id": "coated-palace",
        "outputId": "f19bc247-edab-44f9-abc3-1077e8b74115"
      },
      "source": [
        "word_length[1100:1150]"
      ],
      "id": "coated-palace",
      "execution_count": 33,
      "outputs": [
        {
          "output_type": "execute_result",
          "data": {
            "text/plain": [
              "[3,\n",
              " 12,\n",
              " 17,\n",
              " 14,\n",
              " 17,\n",
              " 2,\n",
              " 11,\n",
              " 12,\n",
              " 10,\n",
              " 2,\n",
              " 4,\n",
              " 10,\n",
              " 11,\n",
              " 5,\n",
              " 12,\n",
              " 13,\n",
              " 8,\n",
              " 8,\n",
              " 5,\n",
              " 9,\n",
              " 8,\n",
              " 6,\n",
              " 10,\n",
              " 7,\n",
              " 15,\n",
              " 5,\n",
              " 7,\n",
              " 10,\n",
              " 17,\n",
              " 4,\n",
              " 3,\n",
              " 8,\n",
              " 11,\n",
              " 7,\n",
              " 13,\n",
              " 11,\n",
              " 11,\n",
              " 11,\n",
              " 8,\n",
              " 14,\n",
              " 10,\n",
              " 5,\n",
              " 7,\n",
              " 6,\n",
              " 7,\n",
              " 7,\n",
              " 7,\n",
              " 7,\n",
              " 7,\n",
              " 9]"
            ]
          },
          "metadata": {
            "tags": []
          },
          "execution_count": 33
        }
      ]
    },
    {
      "cell_type": "code",
      "metadata": {
        "execution": {
          "iopub.execute_input": "2021-05-04T15:54:30.738732Z",
          "iopub.status.busy": "2021-05-04T15:54:30.738107Z",
          "iopub.status.idle": "2021-05-04T15:54:31.000232Z",
          "shell.execute_reply": "2021-05-04T15:54:31.000736Z"
        },
        "papermill": {
          "duration": 0.380038,
          "end_time": "2021-05-04T15:54:31.000918",
          "exception": false,
          "start_time": "2021-05-04T15:54:30.620880",
          "status": "completed"
        },
        "tags": [],
        "colab": {
          "base_uri": "https://localhost:8080/",
          "height": 279
        },
        "id": "sitting-correspondence",
        "outputId": "37bae557-25c3-4497-ac1f-a13d6b5d0c20"
      },
      "source": [
        "# plotting graph (length of the tweets vs Numbers)\n",
        "plt.hist(word_length)\n",
        "plt.xlabel(\"Length of Words\")\n",
        "plt.ylabel(\"Nos\")\n",
        "plt.show()"
      ],
      "id": "sitting-correspondence",
      "execution_count": 34,
      "outputs": [
        {
          "output_type": "display_data",
          "data": {
            "image/png": "[encoded data removed]",
            "text/plain": [
              "<Figure size 432x288 with 1 Axes>"
            ]
          },
          "metadata": {
            "tags": [],
            "needs_background": "light"
          }
        }
      ]
    },
    {
      "cell_type": "code",
      "metadata": {
        "execution": {
          "iopub.execute_input": "2021-05-04T15:54:31.233951Z",
          "iopub.status.busy": "2021-05-04T15:54:31.233265Z",
          "iopub.status.idle": "2021-05-04T15:54:31.239496Z",
          "shell.execute_reply": "2021-05-04T15:54:31.238977Z"
        },
        "papermill": {
          "duration": 0.123486,
          "end_time": "2021-05-04T15:54:31.239649",
          "exception": false,
          "start_time": "2021-05-04T15:54:31.116163",
          "status": "completed"
        },
        "tags": [],
        "colab": {
          "base_uri": "https://localhost:8080/"
        },
        "id": "public-tobago",
        "outputId": "1c71e5c9-d028-4f19-9784-d45999ef8e98"
      },
      "source": [
        "max(word_length) # lenth of the longest tweet"
      ],
      "id": "public-tobago",
      "execution_count": 35,
      "outputs": [
        {
          "output_type": "execute_result",
          "data": {
            "text/plain": [
              "25"
            ]
          },
          "metadata": {
            "tags": []
          },
          "execution_count": 35
        }
      ]
    },
    {
      "cell_type": "markdown",
      "metadata": {
        "papermill": {
          "duration": 0.114551,
          "end_time": "2021-05-04T15:54:31.469482",
          "exception": false,
          "start_time": "2021-05-04T15:54:31.354931",
          "status": "completed"
        },
        "tags": [],
        "id": "isolated-subsection"
      },
      "source": [
        "#### Padding the Sequence"
      ],
      "id": "isolated-subsection"
    },
    {
      "cell_type": "code",
      "metadata": {
        "execution": {
          "iopub.execute_input": "2021-05-04T15:54:31.707735Z",
          "iopub.status.busy": "2021-05-04T15:54:31.706794Z",
          "iopub.status.idle": "2021-05-04T15:54:31.770983Z",
          "shell.execute_reply": "2021-05-04T15:54:31.771455Z"
        },
        "papermill": {
          "duration": 0.187651,
          "end_time": "2021-05-04T15:54:31.771642",
          "exception": false,
          "start_time": "2021-05-04T15:54:31.583991",
          "status": "completed"
        },
        "tags": [],
        "colab": {
          "base_uri": "https://localhost:8080/"
        },
        "id": "perfect-administration",
        "outputId": "b6b4c073-ddf7-4c58-e477-6aed67e06ce1"
      },
      "source": [
        "SENT_LENGTH = 15\n",
        "embedded_docs = pad_sequences(onehot_repr, padding=\"post\", maxlen=SENT_LENGTH)\n",
        "embedded_docs"
      ],
      "id": "perfect-administration",
      "execution_count": 36,
      "outputs": [
        {
          "output_type": "execute_result",
          "data": {
            "text/plain": [
              "array([[ 7396,  6714, 26872, ...,     0,     0,     0],\n",
              "       [15852, 13172,  2784, ...,     0,     0,     0],\n",
              "       [ 1413,  8067,  6103, ...,     0,     0,     0],\n",
              "       ...,\n",
              "       [21134, 19257, 25686, ...,     0,     0,     0],\n",
              "       [21598, 12064, 12674, ...,  8858,  4998,     0],\n",
              "       [23738, 13882,  8625, ...,     0,     0,     0]], dtype=int32)"
            ]
          },
          "metadata": {
            "tags": []
          },
          "execution_count": 36
        }
      ]
    },
    {
      "cell_type": "markdown",
      "metadata": {
        "papermill": {
          "duration": 0.115925,
          "end_time": "2021-05-04T15:54:32.002756",
          "exception": false,
          "start_time": "2021-05-04T15:54:31.886831",
          "status": "completed"
        },
        "tags": [],
        "id": "explicit-planning"
      },
      "source": [
        "#### Function for model creation"
      ],
      "id": "explicit-planning"
    },
    {
      "cell_type": "code",
      "metadata": {
        "execution": {
          "iopub.execute_input": "2021-05-04T15:54:32.240816Z",
          "iopub.status.busy": "2021-05-04T15:54:32.240061Z",
          "iopub.status.idle": "2021-05-04T15:54:32.243051Z",
          "shell.execute_reply": "2021-05-04T15:54:32.242466Z"
        },
        "papermill": {
          "duration": 0.124409,
          "end_time": "2021-05-04T15:54:32.243198",
          "exception": false,
          "start_time": "2021-05-04T15:54:32.118789",
          "status": "completed"
        },
        "tags": [],
        "id": "bearing-module"
      },
      "source": [
        "def create_model():\n",
        "  VECT_FEATURES = 32\n",
        "  model = Sequential()\n",
        "  model.add(Embedding(VOC_SIZE,\n",
        "                      VECT_FEATURES,\n",
        "                      input_length=SENT_LENGTH))\n",
        "  model.add(LSTM(100, return_sequences = True))\n",
        "  model.add(GlobalMaxPool1D())\n",
        "  model.add(BatchNormalization())\n",
        "  model.add(Dropout(0.5))\n",
        "  model.add(Dense(10, activation=\"relu\"))\n",
        "  model.add(Dropout(0.2))\n",
        "  model.add(Dense(1, activation = \"sigmoid\"))\n",
        "  return model\n"
      ],
      "id": "bearing-module",
      "execution_count": 37,
      "outputs": []
    },
    {
      "cell_type": "code",
      "metadata": {
        "execution": {
          "iopub.execute_input": "2021-05-04T15:54:32.477953Z",
          "iopub.status.busy": "2021-05-04T15:54:32.477256Z",
          "iopub.status.idle": "2021-05-04T15:54:32.956316Z",
          "shell.execute_reply": "2021-05-04T15:54:32.956923Z"
        },
        "papermill": {
          "duration": 0.598591,
          "end_time": "2021-05-04T15:54:32.957098",
          "exception": false,
          "start_time": "2021-05-04T15:54:32.358507",
          "status": "completed"
        },
        "tags": [],
        "colab": {
          "base_uri": "https://localhost:8080/"
        },
        "id": "hollywood-transcription",
        "outputId": "b42a682e-016b-41a4-fa05-283601bb3dfb"
      },
      "source": [
        "model = create_model()\n",
        "model.compile(optimizer = \"adam\", loss = \"binary_crossentropy\", metrics = [\"accuracy\"]) # compiling\n",
        "model.summary() #summary"
      ],
      "id": "hollywood-transcription",
      "execution_count": 38,
      "outputs": [
        {
          "output_type": "stream",
          "text": [
            "Model: \"sequential\"\n",
            "_________________________________________________________________\n",
            "Layer (type)                 Output Shape              Param #   \n",
            "=================================================================\n",
            "embedding (Embedding)        (None, 15, 32)            960000    \n",
            "_________________________________________________________________\n",
            "lstm (LSTM)                  (None, 15, 100)           53200     \n",
            "_________________________________________________________________\n",
            "global_max_pooling1d (Global (None, 100)               0         \n",
            "_________________________________________________________________\n",
            "batch_normalization (BatchNo (None, 100)               400       \n",
            "_________________________________________________________________\n",
            "dropout (Dropout)            (None, 100)               0         \n",
            "_________________________________________________________________\n",
            "dense (Dense)                (None, 10)                1010      \n",
            "_________________________________________________________________\n",
            "dropout_1 (Dropout)          (None, 10)                0         \n",
            "_________________________________________________________________\n",
            "dense_1 (Dense)              (None, 1)                 11        \n",
            "=================================================================\n",
            "Total params: 1,014,621\n",
            "Trainable params: 1,014,421\n",
            "Non-trainable params: 200\n",
            "_________________________________________________________________\n"
          ],
          "name": "stdout"
        }
      ]
    },
    {
      "cell_type": "markdown",
      "metadata": {
        "papermill": {
          "duration": 0.115789,
          "end_time": "2021-05-04T15:54:33.189986",
          "exception": false,
          "start_time": "2021-05-04T15:54:33.074197",
          "status": "completed"
        },
        "tags": [],
        "id": "vocational-thesaurus"
      },
      "source": [
        "#### Training the Model"
      ],
      "id": "vocational-thesaurus"
    },
    {
      "cell_type": "code",
      "metadata": {
        "execution": {
          "iopub.execute_input": "2021-05-04T15:54:33.425808Z",
          "iopub.status.busy": "2021-05-04T15:54:33.425042Z",
          "iopub.status.idle": "2021-05-04T15:55:09.738848Z",
          "shell.execute_reply": "2021-05-04T15:55:09.738217Z"
        },
        "papermill": {
          "duration": 36.433973,
          "end_time": "2021-05-04T15:55:09.738995",
          "exception": false,
          "start_time": "2021-05-04T15:54:33.305022",
          "status": "completed"
        },
        "tags": [],
        "colab": {
          "base_uri": "https://localhost:8080/"
        },
        "id": "technical-nurse",
        "outputId": "7264d535-8693-4561-be43-1335d250ceb4"
      },
      "source": [
        "history = model.fit(embedded_docs, y, epochs=6, batch_size=32)"
      ],
      "id": "technical-nurse",
      "execution_count": 39,
      "outputs": [
        {
          "output_type": "stream",
          "text": [
            "Epoch 1/6\n",
            "238/238 [==============================] - 7s 22ms/step - loss: 0.6217 - accuracy: 0.6363\n",
            "Epoch 2/6\n",
            "238/238 [==============================] - 5s 21ms/step - loss: 0.3409 - accuracy: 0.8636\n",
            "Epoch 3/6\n",
            "238/238 [==============================] - 5s 21ms/step - loss: 0.2250 - accuracy: 0.9132\n",
            "Epoch 4/6\n",
            "238/238 [==============================] - 5s 21ms/step - loss: 0.1711 - accuracy: 0.9354\n",
            "Epoch 5/6\n",
            "238/238 [==============================] - 5s 21ms/step - loss: 0.1398 - accuracy: 0.9475\n",
            "Epoch 6/6\n",
            "238/238 [==============================] - 5s 21ms/step - loss: 0.1140 - accuracy: 0.9523\n"
          ],
          "name": "stdout"
        }
      ]
    },
    {
      "cell_type": "markdown",
      "metadata": {
        "papermill": {
          "duration": 0.281525,
          "end_time": "2021-05-04T15:55:10.298029",
          "exception": false,
          "start_time": "2021-05-04T15:55:10.016504",
          "status": "completed"
        },
        "tags": [],
        "id": "excited-christian"
      },
      "source": [
        "#### Plotting the graph of model accuracy and loss"
      ],
      "id": "excited-christian"
    },
    {
      "cell_type": "code",
      "metadata": {
        "execution": {
          "iopub.execute_input": "2021-05-04T15:55:10.902267Z",
          "iopub.status.busy": "2021-05-04T15:55:10.900668Z",
          "iopub.status.idle": "2021-05-04T15:55:11.195064Z",
          "shell.execute_reply": "2021-05-04T15:55:11.194423Z"
        },
        "papermill": {
          "duration": 0.624452,
          "end_time": "2021-05-04T15:55:11.195200",
          "exception": false,
          "start_time": "2021-05-04T15:55:10.570748",
          "status": "completed"
        },
        "tags": [],
        "colab": {
          "base_uri": "https://localhost:8080/",
          "height": 350
        },
        "id": "legislative-mills",
        "outputId": "3fc81da9-e9b3-40bb-97b3-12b3b2f0714f"
      },
      "source": [
        "fig,(ax1,ax2) = plt.subplots(1,2,figsize=(10,5))\n",
        "ax1.plot(history.history[\"accuracy\"])\n",
        "ax1.set_title(\"Accuracy\")\n",
        "ax1.set_xlabel(\"Epochs\")\n",
        "ax1.set_ylabel(\"Accuracy\")\n",
        "\n",
        "ax2.plot(history.history[\"loss\"])\n",
        "ax2.set_title(\"Loss\")\n",
        "ax2.set_xlabel(\"Epochs\")\n",
        "ax2.set_ylabel(\"Loss\")\n",
        "plt.show()"
      ],
      "id": "legislative-mills",
      "execution_count": 40,
      "outputs": [
        {
          "output_type": "display_data",
          "data": {
            "image/png": "[encoded data removed]",
            "text/plain": [
              "<Figure size 720x360 with 2 Axes>"
            ]
          },
          "metadata": {
            "tags": [],
            "needs_background": "light"
          }
        }
      ]
    },
    {
      "cell_type": "code",
      "metadata": {
        "papermill": {
          "duration": 0.277579,
          "end_time": "2021-05-04T15:55:11.751893",
          "exception": false,
          "start_time": "2021-05-04T15:55:11.474314",
          "status": "completed"
        },
        "tags": [],
        "id": "hungarian-affect"
      },
      "source": [
        ""
      ],
      "id": "hungarian-affect",
      "execution_count": null,
      "outputs": []
    }
  ]
}